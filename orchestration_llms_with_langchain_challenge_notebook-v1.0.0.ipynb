{
 "cells": [
  {
   "cell_type": "code",
   "execution_count": null,
   "id": "bde76e4d-feb7-4e16-b1bd-8fb6a833cc0c",
   "metadata": {},
   "outputs": [],
   "source": [
    "## Task 2. Install packages and import libraries"
   ]
  },
  {
   "cell_type": "code",
   "execution_count": null,
   "id": "0996bc96-204e-4c32-9963-edb0a821dd63",
   "metadata": {},
   "outputs": [],
   "source": [
    "# Install Vertex AI SDK & Other dependencies\n",
    "\n",
    "!sudo apt -y -qq install tesseract-ocr\n",
    "!sudo apt -y -qq install libtesseract-dev\n",
    "!sudo apt-get -y -qq install poppler-utils #required by PyPDF2 for page count and other pdf utilities\n",
    "!sudo apt-get -y -qq install python-dev libxml2-dev libxslt1-dev antiword unrtf poppler-utils tesseract-ocr flac ffmpeg lame libmad0 libsox-fmt-mp3 sox libjpeg-dev swig\n",
    "!pip install langchain langchain-community langchain-core langchain-google-vertexai pypdf\n"
   ]
  },
  {
   "cell_type": "code",
   "execution_count": null,
   "id": "4b36a8e4-ea7b-410b-ae11-1275b662ce1f",
   "metadata": {},
   "outputs": [],
   "source": [
    "# Automatically restart kernel after installs so that your environment can access the new packages\n",
    "import IPython\n",
    "\n",
    "app = IPython.Application.instance()\n",
    "\n",
    "app.kernel.do_shutdown(True)"
   ]
  },
  {
   "cell_type": "code",
   "execution_count": null,
   "id": "d1e22b08-4adc-4fb9-95b5-ec7fb7f6a261",
   "metadata": {},
   "outputs": [],
   "source": [
    "# Import libraries\n",
    "\n",
    "import urllib\n",
    "import warnings\n",
    "from pathlib import Path as p\n",
    "\n",
    "import pandas as pd\n",
    "from langchain import PromptTemplate\n",
    "from langchain.chains.summarize import load_summarize_chain\n",
    "from langchain.document_loaders import PyPDFLoader\n",
    "from langchain_google_vertexai import ChatVertexAI\n",
    "\n",
    "warnings.filterwarnings(\"ignore\")"
   ]
  },
  {
   "cell_type": "code",
   "execution_count": null,
   "id": "ecc6f525-9786-4569-aaac-9c005db08b5c",
   "metadata": {},
   "outputs": [],
   "source": [
    "## Task 3. Load the model and prepare data"
   ]
  },
  {
   "cell_type": "code",
   "execution_count": null,
   "id": "d03b7b86-4b03-43e7-80f3-a2465a78da56",
   "metadata": {},
   "outputs": [],
   "source": [
    "#TODO: Load the pre-trained text generation model named \"gemini-1.5-pro\" using \"ChatVertexAI\" class.\n"
   ]
  },
  {
   "cell_type": "code",
   "execution_count": null,
   "id": "597fe978-801d-4e91-bbdd-470b55d19843",
   "metadata": {},
   "outputs": [],
   "source": [
    "#TODO: Download a PDF file from specified URL and save it in \"data\" directory.\n"
   ]
  },
  {
   "cell_type": "code",
   "execution_count": null,
   "id": "5fd0e50b-3ee8-47fc-a275-0ace00df6609",
   "metadata": {},
   "outputs": [],
   "source": [
    "#TODO: Load the PDF file and split it into individual pages.\n"
   ]
  },
  {
   "cell_type": "code",
   "execution_count": null,
   "id": "eb18acd5-29e8-4d16-ac00-0d27b740f99f",
   "metadata": {},
   "outputs": [],
   "source": [
    "## Task 4. Generate summaries"
   ]
  },
  {
   "cell_type": "code",
   "execution_count": null,
   "id": "de464893-f82f-4be1-a37e-d8e4d0f57d7f",
   "metadata": {},
   "outputs": [],
   "source": [
    "#Prompt design with Stuffing Chain\n",
    "\n",
    "prompt_template = \"\"\"Write a concise summary of the following text delimited by triple backquotes.\n",
    "              Return your response in bullet points which covers the key points of the text.\n",
    "              ```{text}```\n",
    "              BULLET POINT SUMMARY:\n",
    "  \"\"\"\n",
    "\n",
    "prompt = PromptTemplate(template=prompt_template, input_variables=[\"text\"])"
   ]
  },
  {
   "cell_type": "code",
   "execution_count": null,
   "id": "24bec1e2-dbec-447f-a4f1-1565784623df",
   "metadata": {},
   "outputs": [],
   "source": [
    "#TODO: Set up a summarization chain using the stuff method. Incorporate the model loaded earlier into the summarization chain to enhance the quality of the summary.\n"
   ]
  },
  {
   "cell_type": "code",
   "execution_count": null,
   "id": "3883eb22-65cc-4af9-95d6-4873d6ddb5b2",
   "metadata": {},
   "outputs": [],
   "source": [
    "## Task 5. Add tools to the LLM for multiplication"
   ]
  },
  {
   "cell_type": "code",
   "execution_count": null,
   "id": "ea98878d-d529-4e71-8867-7f1addd41b54",
   "metadata": {},
   "outputs": [],
   "source": [
    "#TODO: Create a tool called 'multiply' that takes two integers, 'a' and 'b', as inputs, performs the multiplication (a * b), and returns the result.\n",
    "from langchain_core.tools import tool\n",
    "\n"
   ]
  },
  {
   "cell_type": "code",
   "execution_count": null,
   "id": "6071ad9f-f764-4eac-a5b2-4c7bcd583269",
   "metadata": {},
   "outputs": [],
   "source": [
    "#TODO: Add the tools to the LLM created earlier and invoke it with the following query. Print the result in the console.\n",
    "from langchain_core.messages import HumanMessage, ToolMessage, AIMessage\n",
    "query = \"What is 3 * 12?\"\n",
    "messages = [HumanMessage(query)]\n"
   ]
  },
  {
   "cell_type": "code",
   "execution_count": null,
   "id": "b9e0caff-57f4-4782-be24-d2050aae602b",
   "metadata": {},
   "outputs": [],
   "source": [
    "#TODO: Iterate through the tools in the response, invoke the tools and append the response to the messages object.\n"
   ]
  },
  {
   "cell_type": "code",
   "execution_count": null,
   "id": "433d86ac-087c-4ba5-a4ba-2c38b3fb99d0",
   "metadata": {},
   "outputs": [],
   "source": [
    "#TODO: Invoke the LLM with the solution of the tool and the original message and print the final user response.\n"
   ]
  }
 ],
 "metadata": {
  "environment": {
   "kernel": "python3",
   "name": "tf2-cpu.2-11.m123",
   "type": "gcloud",
   "uri": "us-docker.pkg.dev/deeplearning-platform-release/gcr.io/tf2-cpu.2-11:m123"
  },
  "kernelspec": {
   "display_name": "Python 3 (Local)",
   "language": "python",
   "name": "python3"
  },
  "language_info": {
   "codemirror_mode": {
    "name": "ipython",
    "version": 3
   },
   "file_extension": ".py",
   "mimetype": "text/x-python",
   "name": "python",
   "nbconvert_exporter": "python",
   "pygments_lexer": "ipython3",
   "version": "3.10.14"
  }
 },
 "nbformat": 4,
 "nbformat_minor": 5
}
