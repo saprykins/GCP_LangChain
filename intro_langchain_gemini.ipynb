{
  "cells": [
    {
      "cell_type": "code",
      "execution_count": null,
      "metadata": {
        "id": "_1uzXWPtI1b_"
      },
      "outputs": [],
      "source": [
        "# Copyright 2024 Google LLC\n",
        "#\n",
        "# Licensed under the Apache License, Version 2.0 (the \"License\");\n",
        "# you may not use this file except in compliance with the License.\n",
        "# You may obtain a copy of the License at\n",
        "#\n",
        "#     https://www.apache.org/licenses/LICENSE-2.0\n",
        "#\n",
        "# Unless required by applicable law or agreed to in writing, software\n",
        "# distributed under the License is distributed on an \"AS IS\" BASIS,\n",
        "# WITHOUT WARRANTIES OR CONDITIONS OF ANY KIND, either express or implied.\n",
        "# See the License for the specific language governing permissions and\n",
        "# limitations under the License."
      ]
    },
    {
      "cell_type": "markdown",
      "metadata": {
        "id": "359697d5"
      },
      "source": [
        "# Getting Started with LangChain 🦜️🔗 + Gemini API in Vertex AI\n",
        "\n",
        "<table align=\"left\">\n",
        "  <td style=\"text-align: center\">\n",
        "    <a href=\"https://colab.research.google.com/github/GoogleCloudPlatform/generative-ai/blob/main/gemini/orchestration/intro_langchain_gemini.ipynb\">\n",
        "      <img src=\"https://cloud.google.com/ml-engine/images/colab-logo-32px.png\" alt=\"Google Colaboratory logo\"><br> Run in Colab\n",
        "    </a>\n",
        "  </td>\n",
        "  <td style=\"text-align: center\">\n",
        "    <a href=\"https://console.cloud.google.com/vertex-ai/colab/import/https:%2F%2Fraw.githubusercontent.com%2FGoogleCloudPlatform%2Fgenerative-ai%2Fmain%2Fgemini%2Forchestration%2Fintro_langchain_gemini.ipynb\">\n",
        "      <img width=\"32px\" src=\"https://lh3.googleusercontent.com/JmcxdQi-qOpctIvWKgPtrzZdJJK-J3sWE1RsfjZNwshCFgE_9fULcNpuXYTilIR2hjwN\" alt=\"Google Cloud Colab Enterprise logo\"><br> Run in Colab Enterprise\n",
        "    </a>\n",
        "  </td>\n",
        "  <td style=\"text-align: center\">\n",
        "    <a href=\"https://github.com/GoogleCloudPlatform/generative-ai/blob/main/gemini/orchestration/intro_langchain_gemini.ipynb\">\n",
        "      <img src=\"https://cloud.google.com/ml-engine/images/github-logo-32px.png\" alt=\"GitHub logo\"><br> View on GitHub\n",
        "    </a>\n",
        "  </td>\n",
        "  <td style=\"text-align: center\">\n",
        "    <a href=\"https://console.cloud.google.com/vertex-ai/workbench/deploy-notebook?download_url=https://raw.githubusercontent.com/GoogleCloudPlatform/generative-ai/main/gemini/orchestration/intro_langchain_gemini.ipynb\">\n",
        "      <img src=\"https://lh3.googleusercontent.com/UiNooY4LUgW_oTvpsNhPpQzsstV5W8F7rYgxgGBD85cWJoLmrOzhVs_ksK_vgx40SHs7jCqkTkCk=e14-rj-sc0xffffff-h130-w32\" alt=\"Vertex AI logo\"><br> Open in Vertex AI Workbench\n",
        "    </a>\n",
        "  </td>\n",
        "</table>\n",
        "\n",
        "<div style=\"clear: both;\"></div>\n",
        "\n",
        "<b>Share to:</b>\n",
        "\n",
        "<a href=\"https://www.linkedin.com/sharing/share-offsite/?url=https%3A//github.com/GoogleCloudPlatform/generative-ai/blob/main/gemini/orchestration/intro_langchain_gemini.ipynb\" target=\"_blank\">\n",
        "  <img width=\"20px\" src=\"https://upload.wikimedia.org/wikipedia/commons/8/81/LinkedIn_icon.svg\" alt=\"LinkedIn logo\">\n",
        "</a>\n",
        "\n",
        "<a href=\"https://bsky.app/intent/compose?text=https%3A//github.com/GoogleCloudPlatform/generative-ai/blob/main/gemini/orchestration/intro_langchain_gemini.ipynb\" target=\"_blank\">\n",
        "  <img width=\"20px\" src=\"https://upload.wikimedia.org/wikipedia/commons/7/7a/Bluesky_Logo.svg\" alt=\"Bluesky logo\">\n",
        "</a>\n",
        "\n",
        "<a href=\"https://twitter.com/intent/tweet?url=https%3A//github.com/GoogleCloudPlatform/generative-ai/blob/main/gemini/orchestration/intro_langchain_gemini.ipynb\" target=\"_blank\">\n",
        "  <img width=\"20px\" src=\"https://upload.wikimedia.org/wikipedia/commons/5/53/X_logo_2023_original.svg\" alt=\"X logo\">\n",
        "</a>\n",
        "\n",
        "<a href=\"https://reddit.com/submit?url=https%3A//github.com/GoogleCloudPlatform/generative-ai/blob/main/gemini/orchestration/intro_langchain_gemini.ipynb\" target=\"_blank\">\n",
        "  <img width=\"20px\" src=\"https://redditinc.com/hubfs/Reddit%20Inc/Brand/Reddit_Logo.png\" alt=\"Reddit logo\">\n",
        "</a>\n",
        "\n",
        "<a href=\"https://www.facebook.com/sharer/sharer.php?u=https%3A//github.com/GoogleCloudPlatform/generative-ai/blob/main/gemini/orchestration/intro_langchain_gemini.ipynb\" target=\"_blank\">\n",
        "  <img width=\"20px\" src=\"https://upload.wikimedia.org/wikipedia/commons/5/51/Facebook_f_logo_%282019%29.svg\" alt=\"Facebook logo\">\n",
        "</a>            \n"
      ]
    },
    {
      "cell_type": "markdown",
      "metadata": {
        "id": "b24d7ab7a7a5"
      },
      "source": [
        "| | |\n",
        "|-|-|\n",
        "|Author(s) | [Rajesh Thallam](https://github.com/RajeshThallam), [Holt Skinner](https://github.com/holtskinner) |"
      ]
    },
    {
      "cell_type": "markdown",
      "metadata": {
        "id": "11d788b0"
      },
      "source": [
        "### **What is LangChain?**\n",
        "\n",
        "> LangChain is a framework for developing applications powered by large language models (LLMs).\n",
        "\n",
        "**TL;DR** LangChain makes the complicated parts of working & building with language models easier. It helps do this in two ways:\n",
        "\n",
        "1. **Integration** - Bring external data, such as your files, other applications, and API data, to LLMs\n",
        "2. **Agents** - Allows LLMs to interact with its environment via decision making and use LLMs to help decide which action to take next"
      ]
    },
    {
      "cell_type": "markdown",
      "metadata": {
        "id": "Fpilrb5XVT_k"
      },
      "source": [
        "To build effective Generative AI applications, it is key to enable LLMs to interact with external systems. This makes models data-aware and agentic, meaning they can understand, reason, and use data to take action in a meaningful way. The external systems could be public data corpus, private knowledge repositories, databases, applications, APIs, or access to the public internet via Google Search.\n",
        "\n",
        "Here are a few patterns where LLMs can be augmented with other systems:\n",
        "\n",
        "- Convert natural language to SQL, executing the SQL on database, analyze and present the results\n",
        "- Calling an external webhook or API based on the user query\n",
        "- Synthesize outputs from multiple models, or chain the models in a specific order\n",
        "\n",
        "It may look trivial to plumb these calls together and orchestrate them but it becomes a mundane task to write glue code again and again e.g. for every different data connector or a new model. That's where LangChain comes in!\n",
        "\n",
        "![Augmenting LLMs](https://storage.googleapis.com/gweb-cloudblog-publish/images/Patterns_augmenting_LLMs_with_external_syste.max-900x900.jpg)"
      ]
    },
    {
      "cell_type": "markdown",
      "metadata": {
        "id": "aATSgLjXVVY0"
      },
      "source": [
        "### **Why LangChain?**\n",
        "\n",
        "LangChain's modular implementation of components and common patterns combining these components makes it easier to build complex applications based on LLMs. LangChain enables these models to connect to data sources and systems as agents to take action.\n",
        "\n",
        "1. **Components** are abstractions that works to bring external data, such as your documents, databases, applications,APIs to language models. LangChain makes it easy to swap out abstractions and components necessary to work with LLMs.\n",
        "\n",
        "2. **Agents** enable language models to communicate with its environment, where the model then decides the next action to take. LangChain provides out of the box support for using and customizing 'chains' - a series of actions strung together.\n",
        "\n",
        "Though LLMs can be straightforward (text-in, text-out) you'll quickly run into friction points that LangChain helps with once you develop more complicated applications.\n",
        "\n",
        "### LangChain & Vertex AI\n",
        "\n",
        "[Vertex AI Generative AI models](https://cloud.google.com/vertex-ai/docs/generative-ai/learn/overview) — Gemini and Embeddings — are officially integrated with the [LangChain Python SDK](https://python.langchain.com/en/latest/index.html), making it convenient to build applications using Gemini models with the ease of use and flexibility of LangChain.\n",
        "\n",
        "- [LangChain Google Integrations](https://python.langchain.com/v0.2/docs/integrations/platforms/google/)\n",
        "\n",
        "---\n",
        "\n",
        "_Note: This notebook does not cover all aspects of LangChain. Its contents have been curated to get you to building & impact as quick as possible. For more, please check out [LangChain Conceptual Documentation](https://docs.langchain.com/docs/)_\n"
      ]
    },
    {
      "cell_type": "markdown",
      "metadata": {
        "id": "50b19d12"
      },
      "source": [
        "## Objectives\n",
        "\n",
        "This notebook provides an introductory understanding of [LangChain](https://langchain.com/) components and use cases of LangChain with the Gemini API in Vertex AI.\n",
        "\n",
        "- Introduce LangChain components\n",
        "- Showcase LangChain + Gemini API in Vertex AI - Text, Chat and Embedding\n",
        "- Summarizing a large text\n",
        "- Question/Answering from PDF (retrieval based)\n",
        "- Chain LLMs with Google Search\n",
        "\n",
        "---\n",
        "\n",
        "**References:**\n",
        "\n",
        "- Adapted from [LangChain Cookbook](https://github.com/gkamradt/langchain-tutorials) from [Greg Kamradt](https://twitter.com/GregKamradt)\n",
        "- [LangChain Conceptual Documentation](https://docs.langchain.com/docs/)\n",
        "- [LangChain Python Documentation](https://python.langchain.com/en/latest/)\n"
      ]
    },
    {
      "cell_type": "markdown",
      "metadata": {
        "id": "e985f332"
      },
      "source": [
        "### Costs\n",
        "\n",
        "This tutorial uses billable components of Google Cloud:\n",
        "\n",
        "- Vertex AI\n",
        "\n",
        "Learn about [Vertex AI pricing](https://cloud.google.com/vertex-ai/pricing),\n",
        "and use the [Pricing Calculator](https://cloud.google.com/products/calculator/)\n",
        "to generate a cost estimate based on your projected usage.\n"
      ]
    },
    {
      "cell_type": "code",
      "execution_count": null,
      "metadata": {
        "id": "ohPUPez8imvE"
      },
      "outputs": [],
      "source": [
        "# Install Vertex AI SDK, LangChain and dependencies\n",
        "%pip install --upgrade --quiet google-cloud-aiplatform langchain langchain-core langchain-text-splitters langchain-google-vertexai langchain-community faiss-cpu langchain-chroma pypdf"
      ]
    },
    {
      "cell_type": "markdown",
      "metadata": {
        "id": "d3fd2805"
      },
      "source": [
        "**Colab only:** Run the following cell to restart the kernel or use the button to restart the kernel. For Vertex AI Workbench you can restart the terminal using the button on top.\n"
      ]
    },
    {
      "cell_type": "code",
      "execution_count": null,
      "metadata": {
        "id": "c49ae51e03fe"
      },
      "outputs": [],
      "source": [
        "# Automatically restart kernel after installs so that your environment can access the new packages\n",
        "import IPython\n",
        "\n",
        "app = IPython.Application.instance()\n",
        "app.kernel.do_shutdown(True)"
      ]
    },
    {
      "cell_type": "markdown",
      "metadata": {
        "id": "034fe628"
      },
      "source": [
        "### Authenticating your notebook environment\n",
        "\n",
        "- If you are using **Colab** to run this notebook, run the cell below and continue.\n",
        "- If you are using **Vertex AI Workbench**, check out the setup instructions [here](https://github.com/GoogleCloudPlatform/generative-ai/tree/main/setup-env)."
      ]
    },
    {
      "cell_type": "code",
      "execution_count": null,
      "metadata": {
        "id": "6d83f50a3d3f"
      },
      "outputs": [],
      "source": [
        "import sys\n",
        "\n",
        "if \"google.colab\" in sys.modules:\n",
        "    from google.colab import auth\n",
        "\n",
        "    auth.authenticate_user()"
      ]
    },
    {
      "cell_type": "markdown",
      "metadata": {
        "id": "5f33c406cb7c"
      },
      "source": [
        "- If you are running this notebook in a local development environment:\n",
        "  - Install the [Google Cloud SDK](https://cloud.google.com/sdk).\n",
        "  - Obtain authentication credentials. Create local credentials by running the following command and following the oauth2 flow (read more about the command [here](https://cloud.google.com/sdk/gcloud/reference/beta/auth/application-default/login)):\n",
        "\n",
        "    ```bash\n",
        "    gcloud auth application-default login\n",
        "    ```"
      ]
    },
    {
      "cell_type": "markdown",
      "metadata": {
        "id": "a92ac8ea"
      },
      "source": [
        "### Import libraries\n"
      ]
    },
    {
      "cell_type": "markdown",
      "metadata": {
        "id": "2e3e35049739"
      },
      "source": [
        "**Colab only:** Run the following cell to initialize the Vertex AI SDK. For Vertex AI Workbench, you don't need to run this."
      ]
    },
    {
      "cell_type": "code",
      "execution_count": 1,
      "metadata": {
        "id": "4f6ab09a187c"
      },
      "outputs": [],
      "source": [
        "import vertexai\n",
        "\n",
        "PROJECT_ID = \"YOUR_PROJECT_ID\"  # @param {type:\"string\"}\n",
        "REGION = \"us-central1\"  # @param {type:\"string\"}\n",
        "\n",
        "# Initialize Vertex AI SDK\n",
        "vertexai.init(project=PROJECT_ID, location=REGION)"
      ]
    },
    {
      "cell_type": "code",
      "execution_count": null,
      "metadata": {
        "id": "Smo-7TpE4B22"
      },
      "outputs": [],
      "source": [
        "from langchain.chains import (\n",
        "    ConversationChain,\n",
        "    LLMChain,\n",
        "    RetrievalQA,\n",
        "    SimpleSequentialChain,\n",
        ")\n",
        "from langchain.chains.summarize import load_summarize_chain\n",
        "from langchain.memory import ConversationBufferMemory\n",
        "from langchain.output_parsers import ResponseSchema, StructuredOutputParser\n",
        "from langchain_chroma import Chroma\n",
        "from langchain_community.document_loaders import PyPDFLoader, WebBaseLoader\n",
        "from langchain_community.vectorstores import FAISS\n",
        "from langchain_core.documents import Document\n",
        "from langchain_core.example_selectors import SemanticSimilarityExampleSelector\n",
        "from langchain_core.messages import HumanMessage, SystemMessage\n",
        "from langchain_core.prompts import PromptTemplate\n",
        "from langchain_core.prompts.few_shot import FewShotPromptTemplate\n",
        "from langchain_google_vertexai import ChatVertexAI, VertexAI, VertexAIEmbeddings\n",
        "from langchain_text_splitters import RecursiveCharacterTextSplitter"
      ]
    },
    {
      "cell_type": "markdown",
      "metadata": {
        "id": "3dd3a375d3b6"
      },
      "source": [
        "Define LangChain Models using the Gemini API in Vertex AI for Text, Chat and Vertex AI Embeddings for Text\n"
      ]
    },
    {
      "cell_type": "code",
      "execution_count": 3,
      "metadata": {
        "id": "eVpPcvsrkzCk"
      },
      "outputs": [],
      "source": [
        "# LLM model\n",
        "llm = VertexAI(\n",
        "    model_name=\"gemini-1.5-flash\",\n",
        "    verbose=True,\n",
        ")\n",
        "\n",
        "# Chat\n",
        "chat = ChatVertexAI(model=\"gemini-1.5-pro\")\n",
        "\n",
        "# Embedding\n",
        "embeddings = VertexAIEmbeddings(\"text-embedding-004\")"
      ]
    },
    {
      "cell_type": "markdown",
      "metadata": {
        "id": "05bb564d"
      },
      "source": [
        "## LangChain Components\n",
        "\n",
        "Let's take a quick tour of LangChain framework and concepts to be aware of. LangChain offers a variety of modules that can be used to create language model applications. These modules can be combined to create more complex applications, or can be used individually for simpler applications.\n",
        "\n",
        "![LangChain Components](https://storage.googleapis.com/gweb-cloudblog-publish/images/Figure-3-LangChain_Concepts.max-1300x1300.png)"
      ]
    },
    {
      "cell_type": "markdown",
      "metadata": {
        "id": "lyGZZEWlZOe0"
      },
      "source": [
        "- **Models** are the building block of LangChain providing an interface to different types of AI models. Large Language Models (LLMs), Chat and Text Embeddings models are supported model types.\n",
        "- **Prompts** refers to the input to the model, which is typically constructed from multiple components. LangChain provides interfaces to construct and work with prompts easily - Prompt Templates, Example Selectors and Output Parsers.\n",
        "- **Memory** provides a construct for storing and retrieving messages during a conversation which can be either short term or long term.\n",
        "- **Indexes** help LLMs interact with documents by providing a way to structure them. LangChain provides Document Loaders to load documents, Text Splitters to split documents into smaller chunks, Vector Stores to store documents as embeddings, and Retrievers to fetch relevant documents.\n",
        "- **Chains** let you combine modular components (or other chains) in a specific order to complete a task.\n",
        "- **Agents** are a powerful construct in LangChain allowing LLMs to communicate with external systems via Tools and observe and decide on the best course of action to complete a given task.\n"
      ]
    },
    {
      "cell_type": "markdown",
      "metadata": {
        "id": "EZfIhJSMjDLV"
      },
      "source": [
        "## Schema - Nuts and Bolts of working with LLMs\n",
        "\n",
        "### Text\n",
        "\n",
        "Text is the natural language way to interact with LLMs.\n"
      ]
    },
    {
      "cell_type": "code",
      "execution_count": 7,
      "metadata": {
        "id": "8e0dc06c"
      },
      "outputs": [
        {
          "data": {
            "text/plain": [
              "'Saturday \\n'"
            ]
          },
          "execution_count": 7,
          "metadata": {},
          "output_type": "execute_result"
        }
      ],
      "source": [
        "# You'll be working with simple strings (that'll soon grow in complexity!)\n",
        "my_text = \"What day comes after Friday?\"\n",
        "\n",
        "llm.invoke(my_text)"
      ]
    },
    {
      "cell_type": "markdown",
      "metadata": {
        "id": "2f39eb39"
      },
      "source": [
        "### Chat Messages\n",
        "\n",
        "Chat is like text, but specified with a message type (System, Human, AI)\n",
        "\n",
        "- **System** - Helpful context that tells the AI what to do\n",
        "- **Human** - Messages intended to represent the user\n",
        "- **AI** - Messages showing what the AI responded with\n",
        "\n",
        "For more information, see [LangChain Documentation for Chat Models](https://python.langchain.com/docs/modules/model_io/chat).\n"
      ]
    },
    {
      "cell_type": "code",
      "execution_count": 31,
      "metadata": {
        "id": "qhQOijKAt1ta"
      },
      "outputs": [
        {
          "data": {
            "text/plain": [
              "AIMessage(content='Hello! 👋  How can I help you today? 😊 \\n', response_metadata={'is_blocked': False, 'safety_ratings': [{'category': 'HARM_CATEGORY_HATE_SPEECH', 'probability_label': 'NEGLIGIBLE', 'blocked': False, 'severity': 'HARM_SEVERITY_NEGLIGIBLE'}, {'category': 'HARM_CATEGORY_DANGEROUS_CONTENT', 'probability_label': 'NEGLIGIBLE', 'blocked': False, 'severity': 'HARM_SEVERITY_NEGLIGIBLE'}, {'category': 'HARM_CATEGORY_HARASSMENT', 'probability_label': 'NEGLIGIBLE', 'blocked': False, 'severity': 'HARM_SEVERITY_NEGLIGIBLE'}, {'category': 'HARM_CATEGORY_SEXUALLY_EXPLICIT', 'probability_label': 'NEGLIGIBLE', 'blocked': False, 'severity': 'HARM_SEVERITY_NEGLIGIBLE'}], 'usage_metadata': {'prompt_token_count': 1, 'candidates_token_count': 14, 'total_token_count': 15}}, id='run-415901f6-c09e-4790-9629-bdba79abe14a-0', usage_metadata={'input_tokens': 1, 'output_tokens': 14, 'total_tokens': 15})"
            ]
          },
          "execution_count": 31,
          "metadata": {},
          "output_type": "execute_result"
        }
      ],
      "source": [
        "chat.invoke([HumanMessage(content=\"Hello\")])"
      ]
    },
    {
      "cell_type": "code",
      "execution_count": 20,
      "metadata": {
        "id": "878d6a36"
      },
      "outputs": [
        {
          "name": "stdout",
          "output_type": "stream",
          "text": [
            "A delicious Caprese salad highlights juicy tomatoes perfectly! \n",
            "\n"
          ]
        }
      ],
      "source": [
        "res = chat.invoke(\n",
        "    [\n",
        "        SystemMessage(\n",
        "            content=\"You are a nice AI bot that helps a user figure out what to eat in one short sentence\"\n",
        "        ),\n",
        "        HumanMessage(content=\"I like tomatoes, what should I eat?\"),\n",
        "    ]\n",
        ")\n",
        "\n",
        "print(res.content)"
      ]
    },
    {
      "cell_type": "markdown",
      "metadata": {
        "id": "0a425aaa"
      },
      "source": [
        "You can also pass more chat history w/ responses from the AI\n"
      ]
    },
    {
      "cell_type": "code",
      "execution_count": 21,
      "metadata": {
        "id": "3bNQxPln7wC0"
      },
      "outputs": [
        {
          "name": "stdout",
          "output_type": "stream",
          "text": [
            "Here are the ingredients for a classic tomato sandwich:\n",
            "\n",
            "* **Bread:** Soft, white bread is traditional, but feel free to use sourdough, wheat, or whatever you prefer. \n",
            "* **Tomatoes:** Choose ripe, flavorful tomatoes. Beefsteak or heirloom varieties are great choices.\n",
            "* **Mayonnaise:** This is essential for flavor and moisture!\n",
            "* **Salt & Pepper:** To taste.\n",
            "* **Optional additions:** Some people like to add a sprinkle of sugar to balance the acidity of the tomatoes, or a few basil leaves for freshness. \n",
            "\n",
            "Let me know if you'd like me to elaborate on any of these ingredients or want tips for making a truly fantastic tomato sandwich! 🍅🍞 \n",
            "\n"
          ]
        }
      ],
      "source": [
        "res = chat.invoke(\n",
        "    [\n",
        "        HumanMessage(\n",
        "            content=\"What are the ingredients required for making a tomato sandwich?\"\n",
        "        )\n",
        "    ]\n",
        ")\n",
        "print(res.content)"
      ]
    },
    {
      "cell_type": "markdown",
      "metadata": {
        "id": "66bf9634"
      },
      "source": [
        "### Documents\n",
        "\n",
        "Document in LangChain refers to an unstructured text consisting of `page_content` referring to the content of the data and `metadata` (data describing attributes of page content).\n"
      ]
    },
    {
      "cell_type": "code",
      "execution_count": 25,
      "metadata": {
        "id": "150e8759"
      },
      "outputs": [
        {
          "data": {
            "text/plain": [
              "Document(metadata={'my_document_id': 234234, 'my_document_source': 'The LangChain Papers', 'my_document_create_time': 1680013019}, page_content=\"This is my document. It is full of text that I've gathered from other places\")"
            ]
          },
          "execution_count": 25,
          "metadata": {},
          "output_type": "execute_result"
        }
      ],
      "source": [
        "Document(\n",
        "    page_content=\"This is my document. It is full of text that I've gathered from other places\",\n",
        "    metadata={\n",
        "        \"my_document_id\": 234234,\n",
        "        \"my_document_source\": \"The LangChain Papers\",\n",
        "        \"my_document_create_time\": 1680013019,\n",
        "    },\n",
        ")"
      ]
    },
    {
      "cell_type": "markdown",
      "metadata": {
        "id": "c2b70f23"
      },
      "source": [
        "### Text Embedding Model\n",
        "\n",
        "[Embeddings](https://cloud.google.com/blog/topics/developers-practitioners/meet-ais-multitool-vector-embeddings) are a way of representing data–almost any kind of data, like text, images, videos, users, music, whatever–as points in space where the locations of those points in space are semantically meaningful. Embeddings transform your text into a vector (a series of numbers that hold the semantic 'meaning' of your text). Vectors are often used when comparing two pieces of text together. An [embedding](https://developers.google.com/machine-learning/crash-course/embeddings/video-lecture) is a relatively low-dimensional space into which you can translate high-dimensional vectors.\n",
        "\n",
        "[LangChain Text Embedding Model](https://python.langchain.com/v0.2/docs/how_to/embed_text) is integrated with [Vertex AI Embedding API for Text](https://cloud.google.com/vertex-ai/docs/generative-ai/embeddings/get-text-embeddings).\n",
        "\n",
        "_BTW: Semantic means 'relating to meaning in language or logic.'_\n"
      ]
    },
    {
      "cell_type": "code",
      "execution_count": 26,
      "metadata": {
        "id": "a2c85e7e"
      },
      "outputs": [],
      "source": [
        "text = \"Hi! It's time for the beach\""
      ]
    },
    {
      "cell_type": "code",
      "execution_count": 27,
      "metadata": {
        "id": "ddc5a368"
      },
      "outputs": [
        {
          "name": "stdout",
          "output_type": "stream",
          "text": [
            "Your embedding is length 768\n",
            "Here's a sample: [-0.02856108359992504, -0.007161829620599747, 0.001575448433868587, -0.010381614789366722, 0.0047200522385537624]...\n"
          ]
        }
      ],
      "source": [
        "text_embedding = embeddings.embed_query(text)\n",
        "print(f\"Your embedding is length {len(text_embedding)}\")\n",
        "print(f\"Here's a sample: {text_embedding[:5]}...\")"
      ]
    },
    {
      "cell_type": "markdown",
      "metadata": {
        "id": "c38fe99f"
      },
      "source": [
        "## Prompts\n",
        "\n",
        "Prompts are text used as instructions to your model. For more details have a look at the notebook [Intro to Prompt Design](https://github.com/GoogleCloudPlatform/generative-ai/blob/main/gemini/prompts/intro_prompt_design.ipynb).\n"
      ]
    },
    {
      "cell_type": "code",
      "execution_count": 29,
      "metadata": {
        "id": "PrvHxWMidmTU"
      },
      "outputs": [
        {
          "data": {
            "text/plain": [
              "'The statement is wrong because **tomorrow after Monday is Tuesday, not Wednesday**. \\n'"
            ]
          },
          "execution_count": 29,
          "metadata": {},
          "output_type": "execute_result"
        }
      ],
      "source": [
        "prompt = \"\"\"\n",
        "Today is Monday, tomorrow is Wednesday.\n",
        "\n",
        "What is wrong with that statement?\n",
        "\"\"\"\n",
        "\n",
        "llm.invoke(prompt)"
      ]
    },
    {
      "cell_type": "markdown",
      "metadata": {
        "id": "74988254"
      },
      "source": [
        "### **Prompt Template**\n",
        "\n",
        "[Prompt Template](https://python.langchain.com/v0.1/docs/modules/model_io/#prompt-templates) is an object that helps to create prompts based on a combination of user input, other non-static information and a fixed template string.\n",
        "\n",
        "Think of it as an [`f-string`](https://realpython.com/python-f-strings/) in Python but for prompts\n"
      ]
    },
    {
      "cell_type": "code",
      "execution_count": 32,
      "metadata": {
        "id": "abcc212d"
      },
      "outputs": [
        {
          "name": "stdout",
          "output_type": "stream",
          "text": [
            "Final Prompt: \n",
            "I really want to travel to Rome. What should I do there?\n",
            "\n",
            "Respond in one short sentence\n",
            "\n",
            "-----------\n",
            "LLM Output: Explore ancient ruins, savor delicious pasta, and soak in the vibrant culture. \n",
            "\n"
          ]
        }
      ],
      "source": [
        "# Notice \"location\" below, that is a placeholder for another value later\n",
        "template = \"\"\"\n",
        "I really want to travel to {location}. What should I do there?\n",
        "\n",
        "Respond in one short sentence\n",
        "\"\"\"\n",
        "\n",
        "prompt = PromptTemplate(\n",
        "    input_variables=[\"location\"],\n",
        "    template=template,\n",
        ")\n",
        "\n",
        "final_prompt = prompt.format(location=\"Rome\")\n",
        "\n",
        "output = llm.invoke(final_prompt)\n",
        "\n",
        "print(f\"Final Prompt: {final_prompt}\")\n",
        "print(\"-----------\")\n",
        "print(f\"LLM Output: {output}\")"
      ]
    },
    {
      "cell_type": "markdown",
      "metadata": {
        "id": "ed40bac2"
      },
      "source": [
        "### **Example Selectors**\n",
        "\n",
        "[Example selectors](https://python.langchain.com/v0.1/docs/modules/model_io/prompts/example_selectors/) are an easy way to select from a series of examples to dynamically place in-context information into your prompt. Often used when the task is nuanced or has a large list of examples.\n",
        "\n",
        "Check out different types of example selectors [here](https://python.langchain.com/docs/how_to/example_selectors/)\n"
      ]
    },
    {
      "cell_type": "code",
      "execution_count": 4,
      "metadata": {
        "id": "aaf36cd9"
      },
      "outputs": [],
      "source": [
        "example_prompt = PromptTemplate(\n",
        "    input_variables=[\"input\", \"output\"],\n",
        "    template=\"Example Input: {input}\\nExample Output: {output}\",\n",
        ")\n",
        "\n",
        "# Examples of locations that nouns are found\n",
        "examples = [\n",
        "    {\"input\": \"pirate\", \"output\": \"ship\"},\n",
        "    {\"input\": \"pilot\", \"output\": \"plane\"},\n",
        "    {\"input\": \"driver\", \"output\": \"car\"},\n",
        "    {\"input\": \"tree\", \"output\": \"ground\"},\n",
        "    {\"input\": \"bird\", \"output\": \"nest\"},\n",
        "]"
      ]
    },
    {
      "cell_type": "code",
      "execution_count": 5,
      "metadata": {
        "id": "12b4798b"
      },
      "outputs": [],
      "source": [
        "# SemanticSimilarityExampleSelector will select examples that are similar to your input by semantic meaning\n",
        "\n",
        "example_selector = SemanticSimilarityExampleSelector.from_examples(\n",
        "    # This is the list of examples available to select from.\n",
        "    examples,\n",
        "    # This is the embedding class used to produce embeddings which are used to measure semantic similarity.\n",
        "    embeddings,\n",
        "    # This is the VectorStore class that is used to store the embeddings and do a similarity search over.\n",
        "    FAISS,\n",
        "    # This is the number of examples to produce.\n",
        "    k=2,\n",
        ")"
      ]
    },
    {
      "cell_type": "code",
      "execution_count": 6,
      "metadata": {
        "id": "2cf30107"
      },
      "outputs": [],
      "source": [
        "similar_prompt = FewShotPromptTemplate(\n",
        "    # The object that will help select examples\n",
        "    example_selector=example_selector,\n",
        "    # Your prompt\n",
        "    example_prompt=example_prompt,\n",
        "    # Customizations that will be added to the top and bottom of your prompt\n",
        "    prefix=\"Give the location an item is usually found in\",\n",
        "    suffix=\"Input: {noun}\\nOutput:\",\n",
        "    # What inputs your prompt will receive\n",
        "    input_variables=[\"noun\"],\n",
        ")"
      ]
    },
    {
      "cell_type": "code",
      "execution_count": 7,
      "metadata": {
        "id": "369442bb"
      },
      "outputs": [
        {
          "name": "stdout",
          "output_type": "stream",
          "text": [
            "Give the location an item is usually found in\n",
            "\n",
            "Example Input: driver\n",
            "Example Output: car\n",
            "\n",
            "Example Input: pilot\n",
            "Example Output: plane\n",
            "\n",
            "Input: student\n",
            "Output:\n"
          ]
        }
      ],
      "source": [
        "# Select a noun!\n",
        "my_noun = \"student\"\n",
        "\n",
        "print(similar_prompt.format(noun=my_noun))"
      ]
    },
    {
      "cell_type": "code",
      "execution_count": 9,
      "metadata": {
        "id": "9bb910f2"
      },
      "outputs": [
        {
          "data": {
            "text/plain": [
              "'School \\n'"
            ]
          },
          "execution_count": 9,
          "metadata": {},
          "output_type": "execute_result"
        }
      ],
      "source": [
        "llm.invoke(similar_prompt.format(noun=my_noun))"
      ]
    },
    {
      "cell_type": "markdown",
      "metadata": {
        "id": "8474c91d"
      },
      "source": [
        "### **Output Parsers**\n",
        "\n",
        "[Output Parsers](https://python.langchain.com/docs/modules/model_io/output_parsers/) help to format the output of a model. Usually used for structured output.\n",
        "\n",
        "Two main ideas:\n",
        "\n",
        "**1. Format Instructions**: An autogenerated prompt that tells the LLM how to format it's response based off desired result\n",
        "\n",
        "**2. Parser**: A method to extract model's text output into a desired structure (usually json)\n"
      ]
    },
    {
      "cell_type": "code",
      "execution_count": 12,
      "metadata": {
        "id": "fa59be3f"
      },
      "outputs": [],
      "source": [
        "# How you would like your response structured. This is basically a fancy prompt template\n",
        "response_schemas = [\n",
        "    ResponseSchema(\n",
        "        name=\"bad_string\", description=\"This a poorly formatted user input string\"\n",
        "    ),\n",
        "    ResponseSchema(\n",
        "        name=\"good_string\", description=\"This is your response, a reformatted response\"\n",
        "    ),\n",
        "]\n",
        "\n",
        "# How you would like to parse your output\n",
        "output_parser = StructuredOutputParser.from_response_schemas(response_schemas)"
      ]
    },
    {
      "cell_type": "code",
      "execution_count": 13,
      "metadata": {
        "id": "d1079f0a"
      },
      "outputs": [
        {
          "name": "stdout",
          "output_type": "stream",
          "text": [
            "The output should be a markdown code snippet formatted in the following schema, including the leading and trailing \"```json\" and \"```\":\n",
            "\n",
            "```json\n",
            "{\n",
            "\t\"bad_string\": string  // This a poorly formatted user input string\n",
            "\t\"good_string\": string  // This is your response, a reformatted response\n",
            "}\n",
            "```\n"
          ]
        }
      ],
      "source": [
        "# See the prompt template you created for formatting\n",
        "format_instructions = output_parser.get_format_instructions()\n",
        "print(format_instructions)"
      ]
    },
    {
      "cell_type": "code",
      "execution_count": 14,
      "metadata": {
        "id": "9aaae5be"
      },
      "outputs": [
        {
          "name": "stdout",
          "output_type": "stream",
          "text": [
            "\n",
            "You will be given a poorly formatted string from a user.\n",
            "Reformat it and make sure all the words are spelled correctly including country, city and state names\n",
            "\n",
            "The output should be a markdown code snippet formatted in the following schema, including the leading and trailing \"```json\" and \"```\":\n",
            "\n",
            "```json\n",
            "{\n",
            "\t\"bad_string\": string  // This a poorly formatted user input string\n",
            "\t\"good_string\": string  // This is your response, a reformatted response\n",
            "}\n",
            "```\n",
            "\n",
            "% USER INPUT:\n",
            "welcom to dbln!\n",
            "\n",
            "YOUR RESPONSE:\n",
            "\n"
          ]
        }
      ],
      "source": [
        "template = \"\"\"\n",
        "You will be given a poorly formatted string from a user.\n",
        "Reformat it and make sure all the words are spelled correctly including country, city and state names\n",
        "\n",
        "{format_instructions}\n",
        "\n",
        "% USER INPUT:\n",
        "{user_input}\n",
        "\n",
        "YOUR RESPONSE:\n",
        "\"\"\"\n",
        "\n",
        "prompt = PromptTemplate(\n",
        "    input_variables=[\"user_input\"],\n",
        "    partial_variables={\"format_instructions\": format_instructions},\n",
        "    template=template,\n",
        ")\n",
        "\n",
        "prompt_value = prompt.format(user_input=\"welcom to dbln!\")\n",
        "\n",
        "print(prompt_value)"
      ]
    },
    {
      "cell_type": "code",
      "execution_count": 15,
      "metadata": {
        "id": "b116bb23"
      },
      "outputs": [
        {
          "data": {
            "text/plain": [
              "'```json\\n{\\n\\t\"bad_string\": \"welcom to dbln!\",\\n\\t\"good_string\": \"Welcome to Dublin!\"\\n}\\n```'"
            ]
          },
          "execution_count": 15,
          "metadata": {},
          "output_type": "execute_result"
        }
      ],
      "source": [
        "llm_output = llm.invoke(prompt_value)\n",
        "llm_output"
      ]
    },
    {
      "cell_type": "code",
      "execution_count": 16,
      "metadata": {
        "id": "985aa814"
      },
      "outputs": [
        {
          "data": {
            "text/plain": [
              "{'bad_string': 'welcom to dbln!', 'good_string': 'Welcome to Dublin!'}"
            ]
          },
          "execution_count": 16,
          "metadata": {},
          "output_type": "execute_result"
        }
      ],
      "source": [
        "output_parser.parse(llm_output)"
      ]
    },
    {
      "cell_type": "markdown",
      "metadata": {
        "id": "7b43cec2"
      },
      "source": [
        "## Indexes\n",
        "\n",
        "[Indexes](https://docs.langchain.com/docs/components/indexing/) refer to ways to structure documents for LLMs to work with them.\n"
      ]
    },
    {
      "cell_type": "markdown",
      "metadata": {
        "id": "d3f904e9"
      },
      "source": [
        "### **Document Loaders**\n",
        "\n",
        "Document loaders are ways to import data from other sources. See the [growing list](https://python.langchain.com/en/latest/modules/indexes/document_loaders.html) of document loaders here. There are more on [LlamaIndex](https://llamahub.ai/) as well that work with LangChain Document Loaders.\n"
      ]
    },
    {
      "cell_type": "code",
      "execution_count": 18,
      "metadata": {
        "id": "ee693520"
      },
      "outputs": [],
      "source": [
        "loader = WebBaseLoader(\"http://www.paulgraham.com/worked.html\")"
      ]
    },
    {
      "cell_type": "code",
      "execution_count": 19,
      "metadata": {
        "id": "88d89ad7"
      },
      "outputs": [],
      "source": [
        "data = loader.load()"
      ]
    },
    {
      "cell_type": "code",
      "execution_count": 20,
      "metadata": {
        "id": "e814f930"
      },
      "outputs": [
        {
          "name": "stdout",
          "output_type": "stream",
          "text": [
            "Found 1 comments\n",
            "Here's a sample:\n",
            "\n",
            "What I Worked On\n",
            "\n",
            "February 2021Before college the two main things I worked on, outside of school,\n",
            "were writing and programming. I didn't write essays.\n"
          ]
        }
      ],
      "source": [
        "print(f\"Found {len(data)} comments\")\n",
        "print(f\"Here's a sample:\\n\\n{''.join([x.page_content[:150] for x in data[:2]])}\")"
      ]
    },
    {
      "cell_type": "markdown",
      "metadata": {
        "id": "0e9601db"
      },
      "source": [
        "### **Text Splitters**\n",
        "\n",
        "[Text Splitters](https://python.langchain.com/docs/modules/data_connection/document_transformers/) are a way to deal with input token limits of LLMs by splitting text into chunks.\n",
        "\n",
        "There are many ways you could split your text into chunks, experiment with [different ones](https://python.langchain.com/docs/modules/data_connection/document_transformers/) to see which is best for your use case.\n"
      ]
    },
    {
      "cell_type": "code",
      "execution_count": 21,
      "metadata": {
        "id": "CbA6yXonidz9"
      },
      "outputs": [],
      "source": [
        "loader = WebBaseLoader(\"http://www.paulgraham.com/worked.html\")\n",
        "pg_work = loader.load()"
      ]
    },
    {
      "cell_type": "code",
      "execution_count": null,
      "metadata": {
        "id": "d19acb18"
      },
      "outputs": [],
      "source": [
        "text_splitter = RecursiveCharacterTextSplitter(\n",
        "    # Set a really small chunk size, just to show.\n",
        "    chunk_size=1000,\n",
        "    chunk_overlap=20,\n",
        ")\n",
        "\n",
        "texts = text_splitter.split_documents(pg_work)"
      ]
    },
    {
      "cell_type": "code",
      "execution_count": null,
      "metadata": {
        "id": "e3090f05"
      },
      "outputs": [],
      "source": [
        "print(f\"You have {len(texts)} documents\")"
      ]
    },
    {
      "cell_type": "code",
      "execution_count": null,
      "metadata": {
        "id": "87a0f45a"
      },
      "outputs": [],
      "source": [
        "print(\"Preview:\")\n",
        "print(texts[0].page_content, \"\\n\")\n",
        "print(texts[1].page_content)"
      ]
    },
    {
      "cell_type": "markdown",
      "metadata": {
        "id": "1f85defb"
      },
      "source": [
        "### **Retrievers**\n",
        "\n",
        "[Retrievers](https://python.langchain.com/docs/modules/data_connection/retrievers) are a way of storing data such that it can be queried by a language model. Easy way to combine documents with language models.\n",
        "\n",
        "There are [many different types of retrievers](https://python.langchain.com/docs/modules/data_connection/retrievers.html#advanced-retrieval-types), the most widely supported is the `VectorStoreRetriever`.\n"
      ]
    },
    {
      "cell_type": "code",
      "execution_count": null,
      "metadata": {
        "id": "Vu_uBr4rKHvP"
      },
      "outputs": [],
      "source": [
        "loader = WebBaseLoader(\"http://www.paulgraham.com/worked.html\")\n",
        "documents = loader.load()"
      ]
    },
    {
      "cell_type": "markdown",
      "metadata": {
        "id": "DnifR4tZkV5P"
      },
      "source": [
        "Here we use [Facebook AI Similarity Search (FAISS)](https://engineering.fb.com/2017/03/29/data-infrastructure/faiss-a-library-for-efficient-similarity-search/), a library and a vector database for similarity search and clustering of dense vectors. To generate dense vectors, a.k.a. embeddings, we use [LangChain text embeddings model with Vertex AI Embeddings for Text](https://python.langchain.com/docs/integrations/text_embedding/google_vertex_ai_palm) .\n"
      ]
    },
    {
      "cell_type": "code",
      "execution_count": null,
      "metadata": {
        "id": "1dab1c20"
      },
      "outputs": [],
      "source": [
        "# Get your splitter ready\n",
        "text_splitter = RecursiveCharacterTextSplitter(chunk_size=1500, chunk_overlap=50)\n",
        "\n",
        "# Split your docs into texts\n",
        "texts = text_splitter.split_documents(documents)\n",
        "\n",
        "# Embed your texts\n",
        "db = FAISS.from_documents(texts, embeddings)"
      ]
    },
    {
      "cell_type": "code",
      "execution_count": null,
      "metadata": {
        "id": "e62372be"
      },
      "outputs": [],
      "source": [
        "# Init your retriever. Asking for just 1 document back\n",
        "retriever = db.as_retriever()\n",
        "retriever"
      ]
    },
    {
      "cell_type": "code",
      "execution_count": null,
      "metadata": {
        "id": "3846a3b5"
      },
      "outputs": [],
      "source": [
        "docs = retriever.get_relevant_documents(\n",
        "    \"what types of things did the author want to develop or build?\"\n",
        ")\n",
        "\n",
        "print(\"\\n\\n\".join([x.page_content[:200] for x in docs[:2]]))"
      ]
    },
    {
      "cell_type": "markdown",
      "metadata": {
        "id": "24193139"
      },
      "source": [
        "### Vector Stores\n",
        "\n",
        "[Vector Store](https://python.langchain.com/docs/modules/data_connection/vectorstores) is a common type of index or a database to store vectors (numerical embeddings). Conceptually, think of them as tables with a column for embeddings (vectors) and a column for metadata.\n",
        "\n",
        "Example\n",
        "\n",
        "| Embedding                                             | Metadata           |\n",
        "| ----------------------------------------------------- | ------------------ |\n",
        "| `[-0.00015641732898075134, -0.003165106289088726, ...]` | `{'date' : '1/2/23}` |\n",
        "| `[-0.00035465431654651654, 1.4654131651654516546, ...]` | `{'date' : '1/3/23}` |\n",
        "\n",
        "- [Chroma](https://www.trychroma.com/) & [FAISS](https://engineering.fb.com/2017/03/29/data-infrastructure/faiss-a-library-for-efficient-similarity-search/) are easy to work with locally.\n",
        "- [Vertex AI Vector Search (Matching Engine)](https://cloud.google.com/blog/products/ai-machine-learning/vertex-matching-engine-blazing-fast-and-massively-scalable-nearest-neighbor-search) is fully managed vector store on Google Cloud, developers can just add the embeddings to its index and issue a search query with a key embedding for the blazingly fast vector search.\n",
        "\n",
        "<br/>\n",
        "\n",
        "LangChain VectorStore is [integrated with Vertex AI Vector Search](https://python.langchain.com/v0.2/docs/integrations/vectorstores/google_vertex_ai_vector_search/)."
      ]
    },
    {
      "cell_type": "code",
      "execution_count": null,
      "metadata": {
        "id": "3c5533ad"
      },
      "outputs": [],
      "source": [
        "loader = WebBaseLoader(\"http://www.paulgraham.com/worked.html\")\n",
        "documents = loader.load()\n",
        "\n",
        "# Get your splitter ready\n",
        "text_splitter = RecursiveCharacterTextSplitter(chunk_size=1500, chunk_overlap=50)\n",
        "\n",
        "# Split your docs into texts\n",
        "texts = text_splitter.split_documents(documents)"
      ]
    },
    {
      "cell_type": "code",
      "execution_count": null,
      "metadata": {
        "id": "661fdf19"
      },
      "outputs": [],
      "source": [
        "print(f\"You have {len(texts)} documents\")"
      ]
    },
    {
      "cell_type": "code",
      "execution_count": null,
      "metadata": {
        "id": "e99ac0ea"
      },
      "outputs": [],
      "source": [
        "embedding_list = embeddings.embed_documents([text.page_content for text in texts])"
      ]
    },
    {
      "cell_type": "code",
      "execution_count": null,
      "metadata": {
        "id": "89e7758c"
      },
      "outputs": [],
      "source": [
        "print(f\"You have {len(embedding_list)} embeddings\")\n",
        "print(f\"Here's a sample of one: {embedding_list[0][:3]}...\")"
      ]
    },
    {
      "cell_type": "markdown",
      "metadata": {
        "id": "8ac358c5"
      },
      "source": [
        "VectorStore stores your embeddings (☝️) and makes them easily searchable.\n"
      ]
    },
    {
      "cell_type": "markdown",
      "metadata": {
        "id": "f9b9b79b"
      },
      "source": [
        "## Memory\n",
        "\n",
        "[Memory](https://python.langchain.com/docs/modules/memory/) is the concept of storing and retrieving data in the process of a conversation. Memory helps LLMs remember information you've chatted about in the past or more complicated information retrieval.\n",
        "\n",
        "There are many types of memory, explore [the documentation](https://python.langchain.com/docs/modules/memory/) to see which one fits your use case.\n"
      ]
    },
    {
      "cell_type": "markdown",
      "metadata": {
        "id": "f43b49da"
      },
      "source": [
        "### ConversationBufferMemory\n",
        "\n",
        "Memory keeps conversation state throughout a user's interactions with a language model. `ConversationBufferMemory` memory allows for storing of messages and then extracts the messages in a variable.\n",
        "\n",
        "We'll use `ConversationChain` to have a conversation and load context from memory. We will look into Chains in the next section.\n"
      ]
    },
    {
      "cell_type": "code",
      "execution_count": null,
      "metadata": {
        "id": "893a18c1"
      },
      "outputs": [],
      "source": [
        "conversation = ConversationChain(\n",
        "    llm=llm, verbose=True, memory=ConversationBufferMemory()\n",
        ")\n",
        "\n",
        "conversation.predict(input=\"Hi there!\")"
      ]
    },
    {
      "cell_type": "code",
      "execution_count": null,
      "metadata": {
        "id": "iG0y5VXL8R6Y"
      },
      "outputs": [],
      "source": [
        "conversation.predict(input=\"What is the capital of France?\")"
      ]
    },
    {
      "cell_type": "code",
      "execution_count": null,
      "metadata": {
        "id": "R7TfAEQDoPK_"
      },
      "outputs": [],
      "source": [
        "conversation.predict(input=\"What are some popular places I can see in France?\")"
      ]
    },
    {
      "cell_type": "code",
      "execution_count": null,
      "metadata": {
        "id": "HoJ9HnR6oKbT"
      },
      "outputs": [],
      "source": [
        "conversation.predict(input=\"What question did I ask first?\")"
      ]
    },
    {
      "cell_type": "markdown",
      "metadata": {
        "id": "f29fc79c"
      },
      "source": [
        "## Chains ⛓️⛓️⛓️\n",
        "\n",
        "Chains are a generic concept in LangChain allowing to combine different LLM calls and action automatically.\n",
        "\n",
        "Ex:\n",
        "\n",
        "```\n",
        "Summary #1, Summary #2, Summary #3 --> Final Summary\n",
        "```\n",
        "\n",
        "There are [many applications of chains](https://python.langchain.com/docs/modules/chains) search to see which are best for your use case.\n",
        "\n",
        "We'll cover a few of them:\n"
      ]
    },
    {
      "cell_type": "markdown",
      "metadata": {
        "id": "c34ba415"
      },
      "source": [
        "### 1. Simple Sequential Chains\n",
        "\n",
        "[Sequential chains](https://python.langchain.com/en/latest/modules/chains/generic/sequential_chains.html) are a series of chains, called in deterministic order. `SimpleSequentialChain` are easy chains where each step uses the output of an LLM as an input into another. Good for breaking up tasks (and keeping the LLM focused).\n"
      ]
    },
    {
      "cell_type": "code",
      "execution_count": null,
      "metadata": {
        "id": "43d4494a"
      },
      "outputs": [],
      "source": [
        "template = \"\"\"Your job is to come up with a classic dish from the area that the users suggests.\n",
        "% USER LOCATION\n",
        "{user_location}\n",
        "\n",
        "YOUR RESPONSE:\n",
        "\"\"\"\n",
        "prompt_template = PromptTemplate(input_variables=[\"user_location\"], template=template)\n",
        "\n",
        "# Holds my 'location' chain\n",
        "location_chain = LLMChain(llm=llm, prompt=prompt_template)"
      ]
    },
    {
      "cell_type": "code",
      "execution_count": null,
      "metadata": {
        "id": "b6c8e00f"
      },
      "outputs": [],
      "source": [
        "template = \"\"\"Given a meal, give a short and simple recipe on how to make that dish at home.\n",
        "% MEAL\n",
        "{user_meal}\n",
        "\n",
        "YOUR RESPONSE:\n",
        "\"\"\"\n",
        "prompt_template = PromptTemplate(input_variables=[\"user_meal\"], template=template)\n",
        "\n",
        "# Holds my 'meal' chain\n",
        "meal_chain = LLMChain(llm=llm, prompt=prompt_template)"
      ]
    },
    {
      "cell_type": "code",
      "execution_count": null,
      "metadata": {
        "id": "7e0b83f2"
      },
      "outputs": [],
      "source": [
        "overall_chain = SimpleSequentialChain(chains=[location_chain, meal_chain], verbose=True)"
      ]
    },
    {
      "cell_type": "code",
      "execution_count": null,
      "metadata": {
        "id": "7d19c64d"
      },
      "outputs": [],
      "source": [
        "review = overall_chain.run(\"Rome\")"
      ]
    },
    {
      "cell_type": "markdown",
      "metadata": {
        "id": "f6191bf5"
      },
      "source": [
        "### 2. Summarization Chain\n",
        "\n",
        "[Summarization Chain](https://python.langchain.com/docs/modules/chains/popular/summarize) easily runs through a long numerous documents and get a summary.\n",
        "\n",
        "There are multiple chain types such as Stuffing, Map-Reduce, Refine, Map-Rerank. Check out [documentation](https://python.langchain.com/docs/modules/chains/how_to/) for other chain types besides `map-reduce`.\n"
      ]
    },
    {
      "cell_type": "code",
      "execution_count": null,
      "metadata": {
        "id": "6f218c3e"
      },
      "outputs": [],
      "source": [
        "loader = WebBaseLoader(\n",
        "    \"https://cloud.google.com/blog/products/ai-machine-learning/how-to-use-grounding-for-your-llms-with-text-embeddings\"\n",
        ")\n",
        "documents = loader.load()\n",
        "\n",
        "print(f\"# of words in the document = {len(documents[0].page_content)}\")\n",
        "\n",
        "# Get your splitter ready\n",
        "text_splitter = RecursiveCharacterTextSplitter(chunk_size=1500, chunk_overlap=50)\n",
        "\n",
        "# Split your docs into texts\n",
        "texts = text_splitter.split_documents(documents)\n",
        "\n",
        "# There is a lot of complexity hidden in this one line. I encourage you to check out the video above for more detail\n",
        "chain = load_summarize_chain(llm, chain_type=\"map_reduce\", verbose=True)\n",
        "chain.run(texts)"
      ]
    },
    {
      "cell_type": "markdown",
      "metadata": {
        "id": "Ta-Vt4t3wTQ7"
      },
      "source": [
        "### 3. Question/Answering Chain\n",
        "\n",
        "[Question Answering Chains](https://python.langchain.com/v0.1/docs/use_cases/question_answering/) easily do QA over a set of documents using QA chain. There are multiple ways to do this with LangChain. We use [**RetrievalQA** chain](https://python.langchain.com/docs/modules/chains/popular/chat_vector_db) which uses `load_qa_chain` under the hood.\n",
        "\n",
        "![QA Process](https://miro.medium.com/v2/resize:fit:2000/format:webp/0*x2f4Es8-NO6zUmks)"
      ]
    },
    {
      "cell_type": "code",
      "execution_count": null,
      "metadata": {
        "id": "3QjgeWSMw0Bb"
      },
      "outputs": [],
      "source": [
        "# Load GOOG's 10K annual report (92 pages).\n",
        "url = \"https://abc.xyz/assets/investor/static/pdf/20230203_alphabet_10K.pdf\"\n",
        "loader = PyPDFLoader(url)\n",
        "documents = loader.load()"
      ]
    },
    {
      "cell_type": "code",
      "execution_count": null,
      "metadata": {
        "id": "OJecKul0xgWT"
      },
      "outputs": [],
      "source": [
        "# split the documents into chunks\n",
        "\n",
        "text_splitter = RecursiveCharacterTextSplitter(chunk_size=1500, chunk_overlap=0)\n",
        "docs = text_splitter.split_documents(documents)\n",
        "print(f\"# of documents = {len(docs)}\")"
      ]
    },
    {
      "cell_type": "code",
      "execution_count": null,
      "metadata": {
        "id": "8V8AoFiQyMSx"
      },
      "outputs": [],
      "source": [
        "# select embedding engine - we use Vertex AI Embeddings API\n",
        "embeddings"
      ]
    },
    {
      "cell_type": "code",
      "execution_count": null,
      "metadata": {
        "id": "st9_gVXmyGf6"
      },
      "outputs": [],
      "source": [
        "# Store docs in local VectorStore as index\n",
        "# it may take a while since API is rate limited\n",
        "db = Chroma.from_documents(docs, embeddings)"
      ]
    },
    {
      "cell_type": "code",
      "execution_count": null,
      "metadata": {
        "id": "29At6L691XZr"
      },
      "outputs": [],
      "source": [
        "# Expose index to the retriever\n",
        "retriever = db.as_retriever(search_type=\"similarity\", search_kwargs={\"k\": 2})"
      ]
    },
    {
      "cell_type": "code",
      "execution_count": null,
      "metadata": {
        "id": "ibQdjXjw1foF"
      },
      "outputs": [],
      "source": [
        "# Create chain to answer questions\n",
        "\n",
        "# Uses LLM to synthesize results from the search index.\n",
        "qa = RetrievalQA.from_chain_type(\n",
        "    llm=llm, chain_type=\"stuff\", retriever=retriever, return_source_documents=True\n",
        ")"
      ]
    },
    {
      "cell_type": "code",
      "execution_count": null,
      "metadata": {
        "id": "zvjxHX6a105H"
      },
      "outputs": [],
      "source": [
        "query = \"What was Alphabet's net income in 2022?\"\n",
        "result = qa({\"query\": query})\n",
        "print(result)"
      ]
    },
    {
      "cell_type": "markdown",
      "metadata": {
        "id": "XLQPrNUq2aiF"
      },
      "source": [
        "![image.png](data:image/png;base64,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
